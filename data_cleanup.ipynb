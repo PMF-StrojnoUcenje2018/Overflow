{
 "cells": [
  {
   "cell_type": "markdown",
   "metadata": {},
   "source": [
    "# Čišćenje i priprema podataka"
   ]
  },
  {
   "cell_type": "code",
   "execution_count": 1,
   "metadata": {
    "collapsed": true
   },
   "outputs": [],
   "source": [
    "import pandas as pd\n",
    "import numpy as np"
   ]
  },
  {
   "cell_type": "code",
   "execution_count": 2,
   "metadata": {},
   "outputs": [],
   "source": [
    "train_data = pd.read_csv('data/train.csv')\n",
    "test_data = pd.read_csv('data/test.csv')"
   ]
  },
  {
   "cell_type": "markdown",
   "metadata": {},
   "source": [
    "### Starost životinja\n",
    "\n",
    "Ovaj stupac je tipa string i sadrži podatke poput '1 year', '3 weeks', '1 month', '3 days'.\n",
    "Želimo podatke prikazati u danima."
   ]
  },
  {
   "cell_type": "code",
   "execution_count": 3,
   "metadata": {
    "collapsed": true
   },
   "outputs": [],
   "source": [
    "def age_to_days(item):\n",
    "    # convert item to list if it is one string\n",
    "    if type(item) is str:\n",
    "        item = [item]\n",
    "    ages_in_days = []\n",
    "    for i in range(len(item)):\n",
    "        # check if item[i] is str\n",
    "        if type(item[i]) is str:\n",
    "            if 'day' in item[i]:\n",
    "                ages_in_days.append(int(item[i].split(' ')[0]))\n",
    "            if 'week' in item[i]:\n",
    "                ages_in_days.append(int(item[i].split(' ')[0])*7)\n",
    "            if 'month' in item[i]:\n",
    "                ages_in_days.append(int(item[i].split(' ')[0])*30)\n",
    "            if 'year' in item[i]:\n",
    "                ages_in_days.append(int(item[i].split(' ')[0])*365)   \n",
    "        else:\n",
    "            # item[i] is not a string but a nan\n",
    "            ages_in_days.append(0) \n",
    "    return ages_in_days"
   ]
  },
  {
   "cell_type": "code",
   "execution_count": 4,
   "metadata": {},
   "outputs": [
    {
     "data": {
      "text/plain": [
       "(10, 8)"
      ]
     },
     "execution_count": 4,
     "metadata": {},
     "output_type": "execute_result"
    }
   ],
   "source": [
    "len(train_data.columns), len(test_data.columns)"
   ]
  },
  {
   "cell_type": "code",
   "execution_count": 5,
   "metadata": {},
   "outputs": [],
   "source": [
    "age_upon_outcome = train_data['AgeuponOutcome'].values\n",
    "age_in_days = age_to_days(age_upon_outcome)\n",
    "train_data['AgeuponOutcome'] = age_in_days\n",
    "\n",
    "age_upon_outcome = test_data['AgeuponOutcome'].values\n",
    "age_in_days = age_to_days(age_upon_outcome)\n",
    "test_data['AgeuponOutcome'] = age_in_days"
   ]
  },
  {
   "cell_type": "markdown",
   "metadata": {},
   "source": [
    "### Spol životinje\n",
    "\n",
    "Stupac SexuponOutcome sadrži informacije o spolu životinje, ali i o tome je li životinja sterilizirana ili kastrirana. Smatramo da svaka od tih informacija bi bila važna za treniranje modela pa ih želimo razdvojiti u dva zasebna atributa."
   ]
  },
  {
   "cell_type": "code",
   "execution_count": 6,
   "metadata": {
    "collapsed": true
   },
   "outputs": [],
   "source": [
    "def sex_and_intact(items):\n",
    "    animal_sex = []\n",
    "    intact_animal = []\n",
    "    for i in range(len(items)):\n",
    "        if (type(items[i]) is str) and items[i] != 'Unknown': \n",
    "            intact, sex = items[i].split(' ')\n",
    "            if intact == 'Intact':\n",
    "                intact_animal.append(1)\n",
    "            else:\n",
    "                intact_animal.append(0)\n",
    "            animal_sex.append(sex)\n",
    "        else:\n",
    "            animal_sex.append('NaN')\n",
    "            intact_animal.append('NaN')\n",
    "            \n",
    "    return animal_sex, intact_animal"
   ]
  },
  {
   "cell_type": "code",
   "execution_count": 7,
   "metadata": {
    "scrolled": false
   },
   "outputs": [],
   "source": [
    "sex_upon_outcome = train_data['SexuponOutcome'].values\n",
    "animal_sex, intact_animal = sex_and_intact(sex_upon_outcome)\n",
    "train_data['Sex'] = animal_sex\n",
    "train_data['Intact'] = intact_animal\n",
    "\n",
    "sex_upon_outcome = test_data['SexuponOutcome'].values\n",
    "animal_sex, intact_animal = sex_and_intact(sex_upon_outcome)\n",
    "test_data['Sex'] = animal_sex\n",
    "test_data['Intact'] = intact_animal"
   ]
  },
  {
   "cell_type": "markdown",
   "metadata": {},
   "source": [
    "Svojstvo spola pripremamo za učenje modela tako što vrijednostima pridružujemo odgovarajuće vektore. Vektor (1, 0) označava mužjaka, vektor (0, 1) ženku, a vektor (0, 0) nepoznat podatak. Vektore realiziramo dodavanjem novih stupaca, po jedan stupac za svaku komponentu."
   ]
  },
  {
   "cell_type": "code",
   "execution_count": 8,
   "metadata": {
    "collapsed": true
   },
   "outputs": [],
   "source": [
    "def parse_animal_sex(data_set):\n",
    "    data_set['Male'] = 0\n",
    "    data_set['Female'] = 0\n",
    "    \n",
    "    data_set.loc[data_set['Sex'] == 'Male', 'Male'] = 1\n",
    "    data_set.loc[data_set['Sex'] == 'Female', 'Female'] = 1"
   ]
  },
  {
   "cell_type": "code",
   "execution_count": 9,
   "metadata": {
    "collapsed": true
   },
   "outputs": [],
   "source": [
    "parse_animal_sex(train_data)\n",
    "parse_animal_sex(test_data)"
   ]
  },
  {
   "cell_type": "markdown",
   "metadata": {},
   "source": [
    "### Ime životinje"
   ]
  },
  {
   "cell_type": "raw",
   "metadata": {},
   "source": [
    "Dodajemo novi stupac koji će poprimiti vrijednost '1' ukoliko životinja ima ime, a '0' ukoliko nema."
   ]
  },
  {
   "cell_type": "code",
   "execution_count": 10,
   "metadata": {
    "collapsed": true
   },
   "outputs": [],
   "source": [
    "\"\"\" Set value of Name column to 1, if animal has name,\n",
    "    to 0 if animal is nameless \"\"\"\n",
    "def hasName(names):\n",
    "    hasName = []\n",
    "    for name in names:\n",
    "        if pd.isnull(name):\n",
    "            hasName.append(0)\n",
    "        else:\n",
    "            hasName.append(1)\n",
    "    return hasName"
   ]
  },
  {
   "cell_type": "code",
   "execution_count": 11,
   "metadata": {
    "collapsed": true
   },
   "outputs": [],
   "source": [
    "train_data['hasName'] = hasName(train_data['Name'])\n",
    "test_data['hasName'] = hasName(test_data['Name'])"
   ]
  },
  {
   "cell_type": "markdown",
   "metadata": {},
   "source": [
    "### Vrsta životinje"
   ]
  },
  {
   "cell_type": "markdown",
   "metadata": {},
   "source": [
    "Kako bismo mogli uključiti vrstu životinje u model, vektorom (1, 0) ili (0, 1) označit ćemo je li ona pas ili mačka."
   ]
  },
  {
   "cell_type": "code",
   "execution_count": 12,
   "metadata": {
    "collapsed": true
   },
   "outputs": [],
   "source": [
    "def parse_animal_type(data_set):\n",
    "    data_set['Dog'] = 0\n",
    "    data_set['Cat'] = 0\n",
    "    \n",
    "    data_set.loc[data_set['AnimalType'] == 'Dog', 'Dog'] = 1\n",
    "    data_set.loc[data_set['AnimalType'] == 'Cat', 'Cat'] = 1"
   ]
  },
  {
   "cell_type": "code",
   "execution_count": 13,
   "metadata": {
    "collapsed": true
   },
   "outputs": [],
   "source": [
    "parse_animal_type(train_data)\n",
    "parse_animal_type(test_data)"
   ]
  },
  {
   "cell_type": "code",
   "execution_count": 14,
   "metadata": {
    "collapsed": true,
    "scrolled": false
   },
   "outputs": [],
   "source": [
    "\"\"\" Set value of Color column to 1 if animal is one colored,\n",
    "    else set it to 0 \"\"\"\n",
    "def isOneColored(colors):\n",
    "    one_color = []\n",
    "    for color in colors:\n",
    "        if '/' not in color:\n",
    "            one_color.append(1)\n",
    "        else:\n",
    "            one_color.append(0)\n",
    "    return one_color"
   ]
  },
  {
   "cell_type": "code",
   "execution_count": 15,
   "metadata": {
    "collapsed": true
   },
   "outputs": [],
   "source": [
    "train_data['isOneColored'] = isOneColored(train_data['Color'])\n",
    "test_data['isOneColored'] = isOneColored(test_data['Color'])"
   ]
  },
  {
   "cell_type": "markdown",
   "metadata": {},
   "source": [
    "### Vremenske oznake "
   ]
  },
  {
   "cell_type": "markdown",
   "metadata": {},
   "source": [
    "Kako bismo mogli istražiti postoji li neki trend u udomljavanju životinja koji je povezan s datumima, godišnjim dobima i sl., razdvojili smo vremensku oznaku na dan, mjesec i godinu. Dalje, radimo detaljniju podjelu vremenskih oznaka. Dodajemo podjelu na dane u tjednu, doba dana i godišnje doba."
   ]
  },
  {
   "cell_type": "code",
   "execution_count": 16,
   "metadata": {
    "collapsed": true
   },
   "outputs": [],
   "source": [
    "import datetime\n",
    "\n",
    "def __date_spliter(row):\n",
    "    year, month, date = tuple(row['DateTime'].split(' ')[0].split('-'))\n",
    "    year = int(year)\n",
    "    month = int(month)\n",
    "    date = int(date)\n",
    "    \n",
    "    row['Date'] = date\n",
    "    row['Month'] = month\n",
    "    row['Year'] = year\n",
    "    hour = int(row['DateTime'].split(' ')[1].split(':')[0])\n",
    "    row['Hour'] = hour\n",
    "    day = datetime.date(year,month,date).weekday()\n",
    "    \n",
    " \n",
    "    # Add day in week\n",
    "    if day==0:\n",
    "        row['Monday'] = 1\n",
    "    elif day==1:\n",
    "        row['Tuesday'] = 1\n",
    "    elif day==2:\n",
    "        row['Wednesday'] = 1\n",
    "    elif day==3:\n",
    "        row['Thursday'] = 1\n",
    "    elif day==4:\n",
    "        row['Friday'] = 1\n",
    "    elif day==5:\n",
    "        row['Saturday'] = 1\n",
    "    elif day==6:\n",
    "        row['Sunday'] = 1\n",
    "\n",
    "    # Add time of the day\n",
    "    if hour >= 6 and hour < 14:\n",
    "        row['time_6_14'] = 1\n",
    "    elif hour >= 14 and hour < 22:\n",
    "        row['time_14_22'] = 1\n",
    "    elif (hour >= 22 and hour < 24) | (hour >= 0 & hour <6):\n",
    "        row['time_22_6'] = 1\n",
    "    \n",
    "    # Adding seasone to data\n",
    "    if month in [1,2]:\n",
    "        row['Winter'] = 1\n",
    "    elif month in [4,5]:\n",
    "        row['Spring'] = 1\n",
    "    elif month in [7,8]:\n",
    "        row['Summer'] = 1\n",
    "    elif month in [10,11]:\n",
    "        row['Autumn'] = 1\n",
    "    elif month == 3:\n",
    "        if date < 21:\n",
    "            row['Winter'] = 1\n",
    "        else:\n",
    "            row['Spring'] = 1\n",
    "    elif month == 6:\n",
    "        if date < 21:\n",
    "            row['Spring'] = 1\n",
    "        else:\n",
    "            row['Summer'] = 1\n",
    "    elif month == 9:\n",
    "        if date < 23:\n",
    "            row['Summer'] = 1\n",
    "        else:\n",
    "            row['Autumn'] = 1\n",
    "    elif month == 12:\n",
    "        if date < 21:\n",
    "            row['Autumn'] = 1\n",
    "        else:\n",
    "            row['Winter'] = 1\n",
    "            \n",
    "    return row \n",
    "\n",
    "def split_time(data):\n",
    "    data['Date'] = 0\n",
    "    data['Month'] = 0\n",
    "    data['Year'] = 0\n",
    "    data['Hour'] = 0\n",
    "    data['Summer'] = 0\n",
    "    data['Spring'] = 0\n",
    "    data['Winter'] = 0\n",
    "    data['Autumn'] = 0\n",
    "    data['Monday'] = 0\n",
    "    data['Tuesday'] = 0\n",
    "    data['Wednesday'] = 0\n",
    "    data['Thursday'] = 0\n",
    "    data['Friday'] = 0\n",
    "    data['Saturday'] = 0\n",
    "    data['Sunday'] = 0\n",
    "    data['time_6_14'] = 0\n",
    "    data['time_14_22'] = 0\n",
    "    data['time_22_6'] = 0\n",
    "    data.update(data.apply(__date_spliter, axis=1))\n",
    "    return data"
   ]
  },
  {
   "cell_type": "code",
   "execution_count": 17,
   "metadata": {
    "collapsed": true
   },
   "outputs": [],
   "source": [
    "train_data = split_time(train_data)\n",
    "test_data = split_time(test_data)"
   ]
  },
  {
   "cell_type": "markdown",
   "metadata": {},
   "source": [
    "### Boja"
   ]
  },
  {
   "cell_type": "code",
   "execution_count": 18,
   "metadata": {},
   "outputs": [
    {
     "name": "stdout",
     "output_type": "stream",
     "text": [
      "366\n"
     ]
    }
   ],
   "source": [
    "print(len(train_data['Color'].value_counts()))"
   ]
  },
  {
   "cell_type": "markdown",
   "metadata": {},
   "source": [
    "Dakle, imamo 366 različitih vrijednosti u stupcu za boju. Sljedeća linija koda ispisuje zastupljenost boja sortiranu silazno."
   ]
  },
  {
   "cell_type": "code",
   "execution_count": 19,
   "metadata": {},
   "outputs": [
    {
     "data": {
      "text/plain": [
       "Black/White            2824\n",
       "Black                  2292\n",
       "Brown Tabby            1635\n",
       "Brown Tabby/White       940\n",
       "White                   931\n",
       "Brown/White             884\n",
       "Orange Tabby            841\n",
       "Tan/White               773\n",
       "Tricolor                752\n",
       "Blue/White              702\n",
       "Black/Tan               672\n",
       "White/Black             643\n",
       "Brown                   639\n",
       "Tan                     628\n",
       "White/Brown             569\n",
       "Tortie                  530\n",
       "Calico                  517\n",
       "Orange Tabby/White      455\n",
       "Brown Brindle/White     450\n",
       "Blue                    450\n",
       "Name: Color, dtype: int64"
      ]
     },
     "execution_count": 19,
     "metadata": {},
     "output_type": "execute_result"
    }
   ],
   "source": [
    "train_data['Color'].value_counts().sort_values(ascending=False).head(20)"
   ]
  },
  {
   "cell_type": "markdown",
   "metadata": {},
   "source": [
    "Uočili smo nekoliko ključnih riječi i svojstvo boje odlučili podijeliti na vektor (\"white\", \"black\", \"brown\", \"blue\", \"tan\", \"tabby\", \"red\", \"calico\", \"orange\", \"chocolate\", \"gray\", \"tortie\", \"tricolor\").\n",
    "\n",
    "Dodajemo nove stupce u naš skup podataka:"
   ]
  },
  {
   "cell_type": "code",
   "execution_count": 20,
   "metadata": {
    "collapsed": true
   },
   "outputs": [],
   "source": [
    "def __create_color_one_hot(row):\n",
    "    COLOR = 'color_'\n",
    "    colors=[\"white\", \"black\", \"brown\", \"blue\", \"tan\", \"tabby\", \n",
    "              \"red\", \"calico\", \"orange\", \"chocolate\", \"gray\", \"tortie\", \n",
    "              \"tricolor\"]\n",
    "    if '/' in row['Color']:\n",
    "        row['color_mix'] = 1\n",
    "    color_in_colors = False\n",
    "    for color in colors:\n",
    "        if color in row['Color'].lower():\n",
    "            row[COLOR+color] = 1\n",
    "            color_in_colors = True\n",
    "    if not color_in_colors:\n",
    "        row[COLOR+'other'] = 1\n",
    "    return row\n",
    "            \n",
    "\n",
    "def create_color_one_hot(data, colors=[\"white\", \"black\", \"brown\", \"blue\", \"tan\", \"tabby\", \n",
    "              \"red\", \"calico\", \"orange\", \"chocolate\", \"gray\", \"tortie\", \n",
    "              \"tricolor\", 'other', 'mix']):\n",
    "    COLOR = 'color_'\n",
    "    for color in colors:\n",
    "        data[COLOR+color] = 0\n",
    "    data = data.apply(__create_color_one_hot, axis=1)\n",
    "    return data"
   ]
  },
  {
   "cell_type": "code",
   "execution_count": 21,
   "metadata": {
    "collapsed": true
   },
   "outputs": [],
   "source": [
    "train_data = create_color_one_hot(train_data)\n",
    "test_data = create_color_one_hot(test_data)"
   ]
  },
  {
   "cell_type": "markdown",
   "metadata": {},
   "source": [
    "### Pasmina "
   ]
  },
  {
   "cell_type": "code",
   "execution_count": 22,
   "metadata": {},
   "outputs": [
    {
     "name": "stdout",
     "output_type": "stream",
     "text": [
      "1380\n"
     ]
    }
   ],
   "source": [
    "print(len(train_data['Breed'].value_counts()))"
   ]
  },
  {
   "cell_type": "markdown",
   "metadata": {},
   "source": [
    "Broj vrsta zasad je prevelik. Promatramo koje se vrste najčešće pojavljuju i grupiramo ostale zajedno.\n",
    "Prije svega, uklanjamo riječ 'Mix' svuda gdje se pojavljuje i odvajamo pasmine ako je između njih znak '/'.\n",
    "Sve vrste pasa \"razbijamo\" u osnovne vrste. Npr. Terrier i Terrier Mix je brojan samo pod Terrier, a Terrier/Puddle Mix je brojan kao Terrier i kao Puddle (bez Mix).\n",
    "Funkcija count_and_print_breeds ispisuje koliko ima koje vrste. "
   ]
  },
  {
   "cell_type": "code",
   "execution_count": 23,
   "metadata": {
    "collapsed": true
   },
   "outputs": [],
   "source": [
    "def count_and_print_breeds(data, feature_name='Breed'):\n",
    "    # Get all different breeds\n",
    "    series = data[feature_name]\n",
    "    distinct_values = series.unique()\n",
    "    breeds = []\n",
    "    for v in distinct_values:\n",
    "        if 'Mix' in v:\n",
    "            if '/' in v:\n",
    "                bree = v.split('/')\n",
    "                for b in bree:\n",
    "                    breeds.append(b)\n",
    "            else:\n",
    "                breeds.append(v[:-3])\n",
    "        elif '/' in v:\n",
    "            bree = v.split('/')\n",
    "            for b in bree:\n",
    "                breeds.append(b)\n",
    "        else:\n",
    "            breeds.append(v)\n",
    "    breeds = list(set(breeds))\n",
    "    breeds_count = {}\n",
    "    for b in breeds:\n",
    "        for row in data.iterrows():\n",
    "            if b in row[1][feature_name]:\n",
    "                if b in breeds_count:\n",
    "                    breeds_count[b] += 1\n",
    "                else:\n",
    "                    breeds_count[b] = 1\n",
    "    \n",
    "    breeds_count = sorted(breeds_count.items(), key=lambda kv: kv[1], reverse=True)\n",
    "    \n",
    "    print(breeds_count)\n",
    "    \n",
    "#count_and_print_breeds(train_data)"
   ]
  },
  {
   "cell_type": "markdown",
   "metadata": {},
   "source": [
    "Nakon pokretanja gornje funkcije, u rezultatima smo uočili učestalo pojavljivanje nekih pasmina, ali na malo drugačije načine. Tako se npr. Terrier pojavljuje u Silky Terrier, Welsh Terrier, Soft Coated Wheaten Terrier itd. Takve smo slučajeve odlučili svrstati sve u istu skupinu (Terr, Retriever, Bulldog)."
   ]
  },
  {
   "cell_type": "code",
   "execution_count": 24,
   "metadata": {},
   "outputs": [
    {
     "data": {
      "text/plain": [
       "'\\ndef count_and_print_breeds(data, feature_name=\\'Breed\\'):\\n    # Get all different breeds\\n    series = data[feature_name]\\n    distinct_values = series.unique()\\n    breeds = []\\n    for v in distinct_values:\\n        if \\'Mix\\' in v:\\n            if \\'/\\' in v:\\n                bree = v.split(\\'/\\')\\n                for b in bree:\\n                    breeds.append(b)\\n            else:\\n                breeds.append(v[:-3].rstrip())\\n        elif \\'/\\' in v:\\n            bree = v.split(\\'/\\')\\n            for b in bree:\\n                breeds.append(b)\\n        else:\\n            breeds.append(v)\\n    breeds = list(set(breeds))\\n    for index in range(len(breeds)-1,0, -1):\\n        if \"Terr\" in breeds[index]:\\n            del (breeds[index])\\n    breeds.append(\"Terr\")\\n    for index in range(len(breeds)-1,0, -1):\\n        if \"Retriever\" in breeds[index]:\\n            del (breeds[index])\\n    breeds.append(\"Retriever\")\\n    for index in range(len(breeds)-1,0, -1):\\n        if \"Bulldog\" in breeds[index]:\\n            del (breeds[index])\\n    breeds.append(\"Bulldog\")\\n    breeds_count = {}\\n    for b in breeds:\\n        for row in data.iterrows():\\n            if b in row[1][feature_name]:\\n                if b in breeds_count:\\n                    breeds_count[b] += 1\\n                else:\\n                    breeds_count[b] = 1\\n    \\n    breeds_count = sorted(breeds_count.items(), key=lambda kv: kv[1], reverse=True)\\n    i = 0\\n    sum_all = 0\\n    sum_10 = 0\\n    sum_15 = 0\\n    sum_20 = 0\\n    for k,v in breeds_count:\\n        sum_all += v\\n        if i < 10:\\n            sum_10 += v\\n        if i < 15:\\n            sum_15 += v\\n        if i < 20:\\n            sum_20 += v\\n        i += 1\\n    print(breeds_count)\\n    print(\\'all\\t\\' + str(sum_all))\\n    print(\\'sum_10\\t\\' + str(sum_10))\\n    print(\\'sum_15\\t\\' + str(sum_15))\\n    print(\\'sum_20\\t\\' + str(sum_20))\\n'"
      ]
     },
     "execution_count": 24,
     "metadata": {},
     "output_type": "execute_result"
    }
   ],
   "source": [
    "\"\"\"\n",
    "def count_and_print_breeds(data, feature_name='Breed'):\n",
    "    # Get all different breeds\n",
    "    series = data[feature_name]\n",
    "    distinct_values = series.unique()\n",
    "    breeds = []\n",
    "    for v in distinct_values:\n",
    "        if 'Mix' in v:\n",
    "            if '/' in v:\n",
    "                bree = v.split('/')\n",
    "                for b in bree:\n",
    "                    breeds.append(b)\n",
    "            else:\n",
    "                breeds.append(v[:-3].rstrip())\n",
    "        elif '/' in v:\n",
    "            bree = v.split('/')\n",
    "            for b in bree:\n",
    "                breeds.append(b)\n",
    "        else:\n",
    "            breeds.append(v)\n",
    "    breeds = list(set(breeds))\n",
    "    for index in range(len(breeds)-1,0, -1):\n",
    "        if \"Terr\" in breeds[index]:\n",
    "            del (breeds[index])\n",
    "    breeds.append(\"Terr\")\n",
    "    for index in range(len(breeds)-1,0, -1):\n",
    "        if \"Retriever\" in breeds[index]:\n",
    "            del (breeds[index])\n",
    "    breeds.append(\"Retriever\")\n",
    "    for index in range(len(breeds)-1,0, -1):\n",
    "        if \"Bulldog\" in breeds[index]:\n",
    "            del (breeds[index])\n",
    "    breeds.append(\"Bulldog\")\n",
    "    breeds_count = {}\n",
    "    for b in breeds:\n",
    "        for row in data.iterrows():\n",
    "            if b in row[1][feature_name]:\n",
    "                if b in breeds_count:\n",
    "                    breeds_count[b] += 1\n",
    "                else:\n",
    "                    breeds_count[b] = 1\n",
    "    \n",
    "    breeds_count = sorted(breeds_count.items(), key=lambda kv: kv[1], reverse=True)\n",
    "    i = 0\n",
    "    sum_all = 0\n",
    "    sum_10 = 0\n",
    "    sum_15 = 0\n",
    "    sum_20 = 0\n",
    "    for k,v in breeds_count:\n",
    "        sum_all += v\n",
    "        if i < 10:\n",
    "            sum_10 += v\n",
    "        if i < 15:\n",
    "            sum_15 += v\n",
    "        if i < 20:\n",
    "            sum_20 += v\n",
    "        i += 1\n",
    "    print(breeds_count)\n",
    "    print('all\\t' + str(sum_all))\n",
    "    print('sum_10\\t' + str(sum_10))\n",
    "    print('sum_15\\t' + str(sum_15))\n",
    "    print('sum_20\\t' + str(sum_20))\n",
    "\"\"\""
   ]
  },
  {
   "cell_type": "markdown",
   "metadata": {},
   "source": [
    "Dobili smo sljedeće rezultate:\n",
    "\n",
    "[('Domestic Shorthair', 8971), ('Retriever', 2442), ('Chihuahua Shorthair', 2398), ('Pit Bull', 2392), ('Terr', 1630), ('German Shepherd', 962), ('Domestic Medium Hair', 884), ('Dachshund', 787), ('Australian Cattle Dog', 640), ('Domestic Longhair', 548), ('Boxer', 437), ('Border Collie', 432), ('Miniature Poodle', 431), ('Siamese', 430), ('Beagle', 311), ('Catahoula', 272), ('Australian Shepherd', 272), ('Yorkshire', 267), ('Miniature Schnauzer', 266), ('Staffordshire', 251), ('Pointer', 239), ('Bulldog', 230), ('Siberian Husky', 221), ('Rottweiler', 209), ('Chihuahua Longhair', 193), ('Shih Tzu', 190), ('Great Pyrenees', 172), ('Anatol Shepherd', 152), ('Chow Chow', 150), ('Pug', 143), ('Australian Kelpie', 133), ('Maltese', 131), ('Black', 130), ('Cardigan Welsh Corgi', 127), ... ]\n",
    "\n",
    "all\t30516\n",
    "sum_10\t21654\n",
    "sum_15\t23695\n",
    "sum_20\t25023\n",
    "\n",
    "Dakle, ako uzmemo 20 skupina, oko 82% ovako podijeljenih podataka bit će obuhvaćeno tim skupinama. Radit ćemo vektor od prvih 20 ovako dobivenih vrsta, stupac koji nijedna navedena vrsta nije u odabranoj skupini ('Other') i stupac koji označava da je životinja mješanac ('Mix')."
   ]
  },
  {
   "cell_type": "code",
   "execution_count": 25,
   "metadata": {
    "collapsed": true
   },
   "outputs": [],
   "source": [
    "def __create_breed_one_hot(row):\n",
    "    BREED = 'Breed_'\n",
    "    breeds=['Domestic Shorthair', 'Chihuahua Shorthair', 'Terr'\n",
    "                                       , 'Pit Bull', 'Retriever', 'German Shepherd'\n",
    "                                       , 'Domestic Medium Hair', 'Dachshund', 'Australian Cattle Dog'\n",
    "                                       , 'Domestic Longhair', 'Border Collie', 'Miniature Poodle'\n",
    "                                       , 'Boxer', 'Siamese', 'Beagle', 'Catahoula', 'Yorkshire'\n",
    "                                       , 'Miniature Schnauzer', 'Staffordshire'\n",
    "                                       , 'Australian Shepherd']\n",
    "    if 'Mix' in row['Breed']:\n",
    "        row['Breed_Mix'] = 1\n",
    "    if '/' in row['Breed']:\n",
    "        row['Breed_Mix'] = 1\n",
    "    breed_in_breeds = False\n",
    "    for breed in breeds:\n",
    "        if breed in row['Breed']:\n",
    "            row[BREED+breed] = 1\n",
    "            breed_in_breeds = True\n",
    "    if not breed_in_breeds:\n",
    "        row[BREED+'Other'] = 1\n",
    "    return row\n",
    "            \n",
    "\n",
    "def create_breed_one_hot(data, breeds=['Domestic Shorthair', 'Chihuahua Shorthair', 'Terr'\n",
    "                                       , 'Pit Bull', 'Retriever', 'German Shepherd'\n",
    "                                       , 'Domestic Medium Hair', 'Dachshund', 'Australian Cattle Dog'\n",
    "                                       , 'Domestic Longhair', 'Border Collie', 'Miniature Poodle'\n",
    "                                       , 'Boxer', 'Siamese', 'Beagle', 'Catahoula', 'Yorkshire'\n",
    "                                       , 'Miniature Schnauzer', 'Staffordshire'\n",
    "                                       , 'Australian Shepherd', 'Other', 'Mix']):\n",
    "    BREED = 'Breed_'\n",
    "    for breed in breeds:\n",
    "        data[BREED+breed] = 0\n",
    "    data = data.apply(__create_breed_one_hot, axis=1)\n",
    "    return data"
   ]
  },
  {
   "cell_type": "code",
   "execution_count": 26,
   "metadata": {
    "collapsed": true
   },
   "outputs": [],
   "source": [
    "train_data = create_breed_one_hot(train_data)\n",
    "test_data = create_breed_one_hot(test_data)"
   ]
  },
  {
   "cell_type": "markdown",
   "metadata": {},
   "source": [
    "### Ishod "
   ]
  },
  {
   "cell_type": "markdown",
   "metadata": {},
   "source": [
    "Svakom smo ishodu dodijelile broj od 0 do 4. Kako ovdje taj broj predstavlja samo krajnji ishod, nećemo te podatke koristiti za neko dodatno računanje, a u računanju greške važno je samo jesmo li ili nismo pogodili klasu, nismo imali potrebu svrstavati ih u vektor."
   ]
  },
  {
   "cell_type": "code",
   "execution_count": 27,
   "metadata": {
    "collapsed": true
   },
   "outputs": [],
   "source": [
    "def parse_outcome(outcome):\n",
    "    if outcome == \"Adoption\":\n",
    "        return 0\n",
    "    if outcome == \"Died\":\n",
    "        return 1\n",
    "    if outcome == \"Euthanasia\":\n",
    "        return 2\n",
    "    if outcome == \"Return_to_owner\":\n",
    "        return 3\n",
    "    if outcome == \"Transfer\":\n",
    "        return 4\n",
    "\n",
    "    raise Exception(\"Unknown outcome type\")"
   ]
  },
  {
   "cell_type": "code",
   "execution_count": 28,
   "metadata": {
    "collapsed": true
   },
   "outputs": [],
   "source": [
    "train_data['OutcomeType'] = train_data['OutcomeType'].apply(lambda x:parse_outcome(x))"
   ]
  },
  {
   "cell_type": "code",
   "execution_count": 29,
   "metadata": {
    "collapsed": true
   },
   "outputs": [],
   "source": [
    "#saving clean data \n",
    "train_data.to_csv('data/clean_train.csv', index=False)"
   ]
  },
  {
   "cell_type": "code",
   "execution_count": 30,
   "metadata": {
    "collapsed": true
   },
   "outputs": [],
   "source": [
    "#saving clean data \n",
    "test_data.to_csv('data/clean_test.csv', index=False)"
   ]
  },
  {
   "cell_type": "code",
   "execution_count": 31,
   "metadata": {},
   "outputs": [],
   "source": [
    "train_data.drop(['AnimalID','AnimalType','Sex','Name','DateTime','Breed','SexuponOutcome','OutcomeSubtype','Color'], axis=1, inplace=True)\n",
    "test_data.drop(['ID','AnimalType','Sex','Name','DateTime','Breed','SexuponOutcome','Color'], axis=1, inplace=True)"
   ]
  },
  {
   "cell_type": "code",
   "execution_count": 35,
   "metadata": {},
   "outputs": [],
   "source": [
    "train_data.to_csv('data/input_train.csv', index=False)\n",
    "test_data.to_csv('data/input_test.csv', index=False)"
   ]
  }
 ],
 "metadata": {
  "anaconda-cloud": {},
  "kernelspec": {
   "display_name": "Python 3",
   "language": "python",
   "name": "python3"
  },
  "language_info": {
   "codemirror_mode": {
    "name": "ipython",
    "version": 3
   },
   "file_extension": ".py",
   "mimetype": "text/x-python",
   "name": "python",
   "nbconvert_exporter": "python",
   "pygments_lexer": "ipython3",
   "version": "3.6.1"
  }
 },
 "nbformat": 4,
 "nbformat_minor": 1
}
