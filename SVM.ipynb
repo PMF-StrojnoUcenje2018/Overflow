{
 "cells": [
  {
   "cell_type": "markdown",
   "metadata": {},
   "source": [
    "## SVM (Support Vector Machines) "
   ]
  },
  {
   "cell_type": "markdown",
   "metadata": {},
   "source": [
    "SVM je moguće pokrenuti koristeći python biblioteku sklearn. Postoji više verzija, a mi smo pokrenuli multiklasifikaciju s LinearSVC algoritmom i sa SVC algoritmom. Najbolji rezultat dobili smo sa SVC algoritmom kada smo postavili parametar C na vrijednost 5.0. Međutim, krajnji rezultat nikako nije zadovoljavajuć. Najbolje što smo na ovaj način dobili jest score=11.94204."
   ]
  },
  {
   "cell_type": "code",
   "execution_count": 2,
   "metadata": {},
   "outputs": [],
   "source": [
    "import pandas as pd\n",
    "from pandas import DataFrame, read_csv\n",
    "import numpy as np\n",
    "\n",
    "from sklearn.svm import LinearSVC, SVC\n",
    "\n",
    "df = pd.read_csv(r'data\\clean_train.csv', encoding=\"ISO-8859-1\")\n",
    "test = pd.read_csv(r'data\\input_test.csv',\n",
    "                   encoding=\"ISO-8859-1\")\n",
    "\n",
    "X = df.drop(['AnimalID', 'Name', 'DateTime', 'OutcomeType', 'OutcomeSubtype',\n",
    "             'AnimalType', 'SexuponOutcome', 'Breed', 'Color', 'Sex'], \n",
    "            axis=1, inplace=False)\n",
    "X = X.fillna(-1)\n",
    "X = np.array(X)\n",
    "y = np.array(df['OutcomeType'].values)\n",
    "\n",
    "clf = SVC(C=0.5)\n",
    "clf.fit(X, y)\n",
    "\n",
    "test = test.fillna(-1)\n",
    "predictions = clf.predict(test)"
   ]
  }
 ],
 "metadata": {
  "kernelspec": {
   "display_name": "Python 3",
   "language": "python",
   "name": "python3"
  },
  "language_info": {
   "codemirror_mode": {
    "name": "ipython",
    "version": 3
   },
   "file_extension": ".py",
   "mimetype": "text/x-python",
   "name": "python",
   "nbconvert_exporter": "python",
   "pygments_lexer": "ipython3",
   "version": "3.6.1"
  }
 },
 "nbformat": 4,
 "nbformat_minor": 2
}
